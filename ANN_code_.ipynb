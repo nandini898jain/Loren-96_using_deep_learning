{
  "nbformat": 4,
  "nbformat_minor": 0,
  "metadata": {
    "colab": {
      "name": "ANN code .ipynb",
      "provenance": [],
      "collapsed_sections": []
    },
    "kernelspec": {
      "name": "python3",
      "display_name": "Python 3"
    }
  },
  "cells": [
    {
      "cell_type": "markdown",
      "metadata": {
        "id": "m9pVP7QzujQ4"
      },
      "source": [
        "**This is the code of deep ANN to conduct prediction on the multi-scale Lorenz 96.There is no overfitting in the training phase because the final training and testing accuracies are the same. Our code is developed in Keras. It must be\n",
        "noted that unlike RC-ESN (and RNN-LSTM),this ANN is stateless, i.e., there is no hidden variable such as states that tracks temporal evolution.**\n"
      ]
    },
    {
      "cell_type": "markdown",
      "metadata": {
        "id": "oCzh4ugHuiyY"
      },
      "source": [
        ""
      ]
    },
    {
      "cell_type": "code",
      "metadata": {
        "id": "SgsbsEi0fzfV"
      },
      "source": [
        "#importing all the required libraries.\n",
        "import sys\n",
        "import numpy as np\n",
        "import scipy.sparse as sparse\n",
        "from scipy.sparse import linalg\n",
        "import pandas as pd\n",
        "import matplotlib.pyplot as plt\n",
        "from matplotlib import cm\n",
        "import math\n",
        "import keras\n",
        "from keras.models import Sequential\n",
        "from keras import layers\n",
        "from keras.layers import Dense, Dropout, Activation\n",
        "from keras.optimizers import RMSprop, SGD, Adagrad, Adadelta\n",
        "#import json\n",
        "import matplotlib.pyplot as plt\n",
        "from numpy import genfromtxt\n",
        "\n"
      ],
      "execution_count": null,
      "outputs": []
    },
    {
      "cell_type": "code",
      "metadata": {
        "id": "E3oaoiOTsjee"
      },
      "source": [
        "# loading lorenz data \n",
        "np.random.seed(42)\n",
        "dataf = pd.read_csv(\"lorenz_data.csv\",header=None)\n",
        "data = np.array(dataf)\n",
        "print(np.shape(data))"
      ],
      "execution_count": null,
      "outputs": []
    },
    {
      "cell_type": "code",
      "metadata": {
        "id": "eZ4JTgJkgW1K"
      },
      "source": [
        "# Defining the global variables\n",
        "shift_k = 0\n",
        "shift_k=int(shift_k)\n",
        "res_params = {\n",
        "             'train_length': 50000,\n",
        "             'predict_length': 2000\n",
        "              }\n"
      ],
      "execution_count": null,
      "outputs": []
    },
    {
      "cell_type": "code",
      "metadata": {
        "id": "KKkmLYQzgtIN"
      },
      "source": [
        "# training the  reservoir\n",
        "train = data[shift_k:shift_k+res_params['train_length'],:]\n",
        "label = data[1+shift_k:1+shift_k+res_params['train_length'],:]\n",
        "print('np.shape(train)', np.shape(train))\n",
        "print('np.shape(label)', np.shape(label))\n",
        "print(train)\n",
        "print(label)\n"
      ],
      "execution_count": null,
      "outputs": []
    },
    {
      "cell_type": "code",
      "metadata": {
        "id": "uCRGLbZyg2Gl"
      },
      "source": [
        "\n",
        "y_train = label - train\n",
        "x_train = train\n",
        "print('np.shape(y_train)', np.shape(y_train))\n",
        "print('np.shape(x_train)', np.shape(x_train))\n",
        "\n"
      ],
      "execution_count": null,
      "outputs": []
    },
    {
      "cell_type": "code",
      "metadata": {
        "id": "H8oACQ44hDxU"
      },
      "source": [
        "print ('Read reference state')\n",
        "#reference state contains a reference to the previous time step for further prediction\n",
        "# Load the reference state\n",
        "ref_state = np.transpose(data[shift_k+res_params['train_length']:shift_k+res_params['train_length']+res_params['predict_length'],:])\n",
        "print('np.shape(ref_state)',np.shape(ref_state))\n",
        "\n",
        "train_y = data[1+shift_k:1+shift_k+res_params['train_length'],:]\n",
        "print('np.shape(train_y)',np.shape(train_y))\n",
        "\n",
        "n_dummy = np.shape(ref_state)\n",
        "n_forecasts = 1\n",
        "n_steps =  n_dummy[1]\n",
        "\n",
        "#fore_state gives the starting point of time step for forecasting of the model\n",
        "fore_state = np.zeros((n_forecasts*(n_steps+1),8))\n",
        "state = np.zeros(8)\n",
        "state_n = np.zeros((1,8))\n",
        "\n",
        "out0 = np.zeros((8,1))                   #tn\n",
        "out1 = np.zeros((8,1))                   #tn-1\n",
        "out2 = np.zeros((8,1))                   #tn-2\n",
        "out3 = np.zeros((8,1))                   #tn-3\n"
      ],
      "execution_count": null,
      "outputs": []
    },
    {
      "cell_type": "code",
      "metadata": {
        "id": "QM3AOP2spS6l"
      },
      "source": [
        "# Get the last point from the training as the starting point of forcasting\n",
        "state[:] = train_y[res_params['train_length']-1,:]\n",
        "fore_state[0,:] = state[:]\n",
        "# Adams-Bashforth integration scheme is used here for prediction\n",
        "for j in range(n_steps):\n",
        "    out3=out2\n",
        "    out2=out1\n",
        "    state_n[0,:] = state\n",
        "\n",
        "    out1 = model.predict(state_n,batch_size=1)\n",
        "    if j==0:\n",
        "        out0 = out1                                                #initial value\n",
        "    if j==1:\n",
        "        out0 = 1.5*out1-0.5*out2                                   #two-step Adams-Bashforth method\n",
        "    if j>1:\n",
        "        out0 = (23.0/12.0)*out1-(4.0/3.0)*out2+(5.0/12.0)*out3     #three-step Adams-Bashforth method\n",
        "    state[:] = state[:] + out0\n",
        "    fore_state[1*(0)+j+1,:] = state[:]\n"
      ],
      "execution_count": null,
      "outputs": []
    },
    {
      "cell_type": "code",
      "metadata": {
        "id": "gVPvBSxtpYak"
      },
      "source": [
        "\n",
        "np.savetxt('output_ANN'+ 'shift'+str(shift_k)+ 'trainN' + str(res_params['train_length'])+'.csv',fore_state,delimiter=',')\n",
        "np.savetxt('truth_ANN'+ 'shift'+str(shift_k)+ 'trainN' + str(res_params['train_length'])+'.csv',ref_state,delimiter=',')\n",
        "print('done')"
      ],
      "execution_count": null,
      "outputs": []
    },
    {
      "cell_type": "code",
      "metadata": {
        "id": "sOQTddVcpzXM"
      },
      "source": [
        ""
      ],
      "execution_count": null,
      "outputs": []
    }
  ]
}